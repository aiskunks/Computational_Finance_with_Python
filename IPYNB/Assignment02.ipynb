{
 "cells": [
  {
   "cell_type": "code",
   "execution_count": 3,
   "metadata": {},
   "outputs": [],
   "source": [
    "# Place all your imports here\n",
    "import yfinance as yf\n",
    "import pandas_datareader.data as web\n",
    "import numpy as np\n",
    "import statsmodels.api as sm\n",
    "import pandas as pd"
   ]
  },
  {
   "cell_type": "markdown",
   "metadata": {},
   "source": [
    "This exercise involves estimating CAPM on: Gold, Exxon, General Electric, IBM, Microsoft, and Walmart. After downloading the price data (for these assets and also for the S&P 500 index and the 4-week treasury bill), you'll conduct the following steps:\n",
    "- Calculate the monthly returns for each.\n",
    "- Letting $r_{it}-r_{ft}$ represent the excess return on asset $i$ and $r_{mt}-r_{ft}$ represent the excess return on the market (proxied by the S&P 500), estimate: $r_{it}-r_{ft} = \\alpha + \\beta(r_{mt}-r_{ft}) + u_t$.\n",
    "- For each asset test the restrictions $\\alpha = 0$ and $\\beta = 0$ both individually and jointly."
   ]
  },
  {
   "cell_type": "code",
   "execution_count": null,
   "metadata": {},
   "outputs": [],
   "source": [
    "# This step takes care of downloading the prices\n",
    "# Adjusted stock prices from Yahoo! Finance\n",
    "data = yf.download('^GSPC XOM GE IBM MSFT WMT GC=F', start='2005-01-01', end='2020-01-31', interval='1mo')['Adj Close']\n",
    "# 4-week Treasury Bill rate from FRED\n",
    "tbill = web.DataReader(['TB4WK'], 'fred', start='2005-01-01', end='2019-12-31')"
   ]
  },
  {
   "cell_type": "markdown",
   "metadata": {},
   "source": [
    "Create a new dataframe called *ret* that contains the continuous compounded monthly return for each asset in *data*. This should only take one line."
   ]
  },
  {
   "cell_type": "code",
   "execution_count": null,
   "metadata": {},
   "outputs": [],
   "source": [
    "# Your code here\n"
   ]
  },
  {
   "cell_type": "markdown",
   "metadata": {},
   "source": [
    "If you take a look at *ret*, you'll notice that the first row is NaN and the first return is for Feb 2005. This is expected since the first return will be based on the prices in the first two rows. However, since the prices are for the beginning of each month, it means that the first return should really be for Jan 2005. Fix this. After you're done, what was previously the return for Feb 2005 should be now assigned to Jan 2005 and so on for all the remaining months."
   ]
  },
  {
   "cell_type": "code",
   "execution_count": null,
   "metadata": {},
   "outputs": [],
   "source": [
    "# Your code here\n"
   ]
  },
  {
   "cell_type": "markdown",
   "metadata": {},
   "source": [
    "Next, let's get to the *tbill* data. Treasury bills are quoted on a 360-day discount basis. We have the 4-week Treasury Bill rate and the rate is quoted on an annualized basis. To convert into the 4-week rate (which is what we need since all our data are monthly), scale the quoted rate by multiplying by 4/52 (or 1/13). The other adjustment to make is that the quote is in percentage while our other returns data is in decimal format. So you'll need to fix this too. After fixing the Treasury rate, join that series with the *ret* dataframe. All of this can be done in one step."
   ]
  },
  {
   "cell_type": "code",
   "execution_count": null,
   "metadata": {},
   "outputs": [],
   "source": [
    "# Your code here\n"
   ]
  },
  {
   "cell_type": "markdown",
   "metadata": {},
   "source": [
    "Now you're ready to estimate CAPM for each of the six assets (don't forget to add the constant for each). There are three steps for each of them:\n",
    "1. Estimate the model (you can use OLS from statsmodels for this) and print out the summary.\n",
    "2. Test the restriction $\\alpha = 0$ and $\\beta = 1$ **individually**.\n",
    "3. Test the restriction $\\alpha = 0$ and $\\beta = 1$ **jointly**.\n",
    "The three code cells below are for Exxon. Follow the same pattern for: GE, IBM, Microsoft, Walmart, Gold. At the end, insert a new Markdown cell and discuss how the $\\beta$ for Gold differs from the rest and what it means.\n",
    "\n",
    "**Important note**: All the returns data have a missing value at the bottom. In addition, the gold data from Yahoo! Finance also has additional missing observations. Don't delete any of these manually. Instead, you can take care of this by using an argument inside the OLS function. Look up the documentation here: https://www.statsmodels.org/stable/generated/statsmodels.regression.linear_model.OLS.html#statsmodels.regression.linear_model.OLS"
   ]
  },
  {
   "cell_type": "code",
   "execution_count": null,
   "metadata": {},
   "outputs": [],
   "source": [
    "# Estimate for Exxon\n"
   ]
  },
  {
   "cell_type": "code",
   "execution_count": null,
   "metadata": {},
   "outputs": [],
   "source": [
    "# Test the individual restrictions for Exxon\n"
   ]
  },
  {
   "cell_type": "code",
   "execution_count": null,
   "metadata": {},
   "outputs": [],
   "source": [
    "# Test the joint restriction for Exxon\n"
   ]
  }
 ],
 "metadata": {
  "kernelspec": {
   "display_name": "fina6337",
   "language": "python",
   "name": "python3"
  },
  "language_info": {
   "codemirror_mode": {
    "name": "ipython",
    "version": 3
   },
   "file_extension": ".py",
   "mimetype": "text/x-python",
   "name": "python",
   "nbconvert_exporter": "python",
   "pygments_lexer": "ipython3",
   "version": "3.11.4"
  },
  "orig_nbformat": 4
 },
 "nbformat": 4,
 "nbformat_minor": 2
}
