{
 "cells": [
  {
   "cell_type": "code",
   "execution_count": 37,
   "metadata": {},
   "outputs": [],
   "source": [
    "import pandas_datareader.data as web\n",
    "import numpy as np\n",
    "import scipy.stats as stats\n",
    "import pandas as pd\n",
    "import matplotlib.pyplot as plt\n",
    "import statsmodels.api as sm\n",
    "import statsmodels.stats.diagnostic as dg\n",
    "import statsmodels.stats.stattools as st"
   ]
  },
  {
   "cell_type": "markdown",
   "metadata": {},
   "source": [
    "In this worksheet, we're going to examine the Fisher hypothesis for the relationship between interest rate and inflation. The hypothesis states that interest rate $r_t$ fully reflects long-run movements in expected inflation $E(\\pi_t)$. For the interest rate, we'll use the 3-month Treasury bill rate. We don't know what consumers *expect* for inflation, but we do know what inflation actually occurred. So, we'll assume that consumers anticipated inflation correctly and use actual inflation as a proxy for expected inflation. For this, we'll use annual % change in CPI. The data is obtained from FRED below."
   ]
  },
  {
   "cell_type": "code",
   "execution_count": 6,
   "metadata": {},
   "outputs": [],
   "source": [
    "# Import data from FRED\n",
    "data = web.DataReader(['TB3MS', 'CPIAUCSL'], 'fred', start='1960-01-01', end='2019-12-31')"
   ]
  },
  {
   "cell_type": "markdown",
   "metadata": {},
   "source": [
    "1. Create a new column in the dataframe for inflation. You can name it however you want. I'm going to use $\\pi_t$ as the symbol. Using CPI, the inflation is defined as: $\\pi_t = 100 * \\frac{\\text{CPI}_{t+12} - \\text{CPI}_{t}}{\\text{CPI}_{t}}$. Since the data we have are in monthly intervals, we've defined inflation as the *annual change in CPI*.\n",
    "\n",
    "Note: You can use the **diff** and **shift** functions in Pandas but it's not required. If you've done this correctly, the inflation values from Feb 2019 to Dec 2019 should be *NaN*."
   ]
  },
  {
   "cell_type": "code",
   "execution_count": 1,
   "metadata": {},
   "outputs": [],
   "source": [
    "# Your code here"
   ]
  },
  {
   "cell_type": "markdown",
   "metadata": {},
   "source": [
    "2. Estimate the following linear regression model using OLS: \n",
    "$$ r_t = \\alpha + \\beta \\pi_t + u_t $$\n",
    "\n",
    "Save the results and print out the summary."
   ]
  },
  {
   "cell_type": "code",
   "execution_count": 2,
   "metadata": {},
   "outputs": [],
   "source": [
    "# Your code here"
   ]
  },
  {
   "cell_type": "markdown",
   "metadata": {},
   "source": [
    "Note: Below, you'll perform a range of diagnostic tests on the OLS residuals. All the modules you'll need for this have been imported above."
   ]
  },
  {
   "cell_type": "markdown",
   "metadata": {},
   "source": [
    "3. Plot the OLS residuals. Does it look like the residuals follow a white noise process?"
   ]
  },
  {
   "cell_type": "code",
   "execution_count": 4,
   "metadata": {},
   "outputs": [],
   "source": [
    "# Your code here. Enter your answer in the box below"
   ]
  },
  {
   "cell_type": "markdown",
   "metadata": {},
   "source": []
  },
  {
   "cell_type": "markdown",
   "metadata": {},
   "source": [
    "4. Test for autocorrelation in the residuals up to order 12 (i.e. 1 year). Interpret the results."
   ]
  },
  {
   "cell_type": "code",
   "execution_count": 5,
   "metadata": {},
   "outputs": [],
   "source": [
    "# Your code here. Enter your answer in the box below."
   ]
  },
  {
   "cell_type": "markdown",
   "metadata": {},
   "source": []
  },
  {
   "cell_type": "markdown",
   "metadata": {},
   "source": [
    "5. Test for ARCH up to order 6. Interpret the results."
   ]
  },
  {
   "cell_type": "code",
   "execution_count": 6,
   "metadata": {},
   "outputs": [],
   "source": [
    "# Your code here. Enter your answer in the box below."
   ]
  },
  {
   "cell_type": "markdown",
   "metadata": {},
   "source": []
  },
  {
   "cell_type": "markdown",
   "metadata": {},
   "source": [
    "6. Test for normality in the residuals. Interpret the results."
   ]
  },
  {
   "cell_type": "code",
   "execution_count": 7,
   "metadata": {},
   "outputs": [],
   "source": [
    "# Your code here. Enter your answer in the box below"
   ]
  },
  {
   "cell_type": "markdown",
   "metadata": {},
   "source": []
  },
  {
   "cell_type": "markdown",
   "metadata": {},
   "source": [
    "7. If the Fisher hypothesis holds, $\\beta = 1$. Test this restriction and interpret the result."
   ]
  },
  {
   "cell_type": "code",
   "execution_count": 8,
   "metadata": {},
   "outputs": [],
   "source": [
    "# Your code here. Enter your answer in the box below."
   ]
  },
  {
   "cell_type": "markdown",
   "metadata": {},
   "source": []
  },
  {
   "cell_type": "markdown",
   "metadata": {},
   "source": [
    "8. You've learned how the residuals behave from your tests in steps 4, 5, 6. What effect does this have on your conclusion for step 7? Enter your answer below."
   ]
  },
  {
   "cell_type": "code",
   "execution_count": null,
   "metadata": {},
   "outputs": [],
   "source": []
  }
 ],
 "metadata": {
  "kernelspec": {
   "display_name": "fina6337",
   "language": "python",
   "name": "python3"
  },
  "language_info": {
   "codemirror_mode": {
    "name": "ipython",
    "version": 3
   },
   "file_extension": ".py",
   "mimetype": "text/x-python",
   "name": "python",
   "nbconvert_exporter": "python",
   "pygments_lexer": "ipython3",
   "version": "3.11.4"
  },
  "orig_nbformat": 4
 },
 "nbformat": 4,
 "nbformat_minor": 2
}
