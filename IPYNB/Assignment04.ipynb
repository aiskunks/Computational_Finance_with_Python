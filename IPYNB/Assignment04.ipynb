{
 "cells": [
  {
   "cell_type": "code",
   "execution_count": 1,
   "metadata": {},
   "outputs": [],
   "source": [
    "import pandas as pd\n",
    "import numpy as np\n",
    "import matplotlib.pyplot as plt\n",
    "from statsmodels.tsa.stattools import acf, pacf\n",
    "from statsmodels.graphics.tsaplots import plot_acf, plot_pacf\n",
    "from statsmodels.tsa.ar_model import AutoReg\n",
    "import statsmodels.api as sm\n",
    "from statsmodels.tsa.vector_ar.var_model import VAR\n",
    "import os"
   ]
  },
  {
   "cell_type": "markdown",
   "metadata": {},
   "source": [
    "The step below will load the data. It expects the data in the same folder(directory) as this assignment."
   ]
  },
  {
   "cell_type": "code",
   "execution_count": 2,
   "metadata": {},
   "outputs": [],
   "source": [
    "assert os.path.isfile('./equity.pkl'), 'Data file Missing!'"
   ]
  },
  {
   "cell_type": "code",
   "execution_count": 3,
   "metadata": {},
   "outputs": [],
   "source": [
    "file = os.path.basename('./equity.pkl')\n",
    "df = pd.read_pickle(file)"
   ]
  },
  {
   "cell_type": "markdown",
   "metadata": {},
   "source": [
    "The data are monthly observations on US equity prices and dividends for the period Jan 1871 to Sep 2016."
   ]
  },
  {
   "cell_type": "markdown",
   "metadata": {},
   "source": [
    "1. Compute the percentage monthly log returns on equities and dividends expressed in percentages, defined as:\n",
    "$$ re_t = 100 \\times (\\log P_t - \\log P_{t-1}) $$\n",
    "$$ rd_t = 100 \\times (\\log D_t - \\log D_{t-1}) $$\n",
    "Plot the two series. What do you notice about their time series patterns? (Note: You'll get a better looking plot by default if you use the plot function from Pandas instead of from Pyplot.)"
   ]
  },
  {
   "cell_type": "code",
   "execution_count": null,
   "metadata": {},
   "outputs": [],
   "source": [
    "# Compute returns\n"
   ]
  },
  {
   "cell_type": "code",
   "execution_count": null,
   "metadata": {},
   "outputs": [],
   "source": [
    "# Plot both returns"
   ]
  },
  {
   "cell_type": "markdown",
   "metadata": {},
   "source": [
    "2. Plot the ACF and PACF of both the dividend and equity returns."
   ]
  },
  {
   "cell_type": "code",
   "execution_count": null,
   "metadata": {},
   "outputs": [],
   "source": [
    "# Plot equity return ACF"
   ]
  },
  {
   "cell_type": "code",
   "execution_count": null,
   "metadata": {},
   "outputs": [],
   "source": [
    "# Plot equity return PACF"
   ]
  },
  {
   "cell_type": "code",
   "execution_count": null,
   "metadata": {},
   "outputs": [],
   "source": [
    "# Plot dividend return ACF"
   ]
  },
  {
   "cell_type": "code",
   "execution_count": null,
   "metadata": {},
   "outputs": [],
   "source": [
    "# Plot dividend return PACF"
   ]
  },
  {
   "cell_type": "markdown",
   "metadata": {},
   "source": [
    "3. Comment on the differences between the ACF/PACF plots for equity and dividend returns."
   ]
  },
  {
   "cell_type": "markdown",
   "metadata": {},
   "source": []
  },
  {
   "cell_type": "markdown",
   "metadata": {},
   "source": [
    "4. Now we'll try a couple of different models for equity returns. First, estimate an AR(6) model for equity returns. (Recall from the lecture discussion that AR models can be estimated using OLS). Comment on the coefficients."
   ]
  },
  {
   "cell_type": "code",
   "execution_count": null,
   "metadata": {},
   "outputs": [],
   "source": [
    "# Your code here"
   ]
  },
  {
   "cell_type": "markdown",
   "metadata": {},
   "source": [
    "5. Next, estimate an MA(3) model for equity returns. As we discussed in class, this cannot be done using OLS. Instead we'll use the following two step process."
   ]
  },
  {
   "cell_type": "markdown",
   "metadata": {},
   "source": [
    "(i) Estimate an AR model for $re_t$ with a constant term and $p > 3$ autoregressive terms:\n",
    "$$ re_t = \\phi_0 + \\phi_1 re_{t-1} + \\cdots + \\phi_p re_{t-p} + u_t $$\n",
    "The value of $p$ is up to you. Just make sure it's more than 3. After you estimate it, save the residuals. You'll need it for the next step."
   ]
  },
  {
   "cell_type": "code",
   "execution_count": null,
   "metadata": {},
   "outputs": [],
   "source": [
    "# Your code here"
   ]
  },
  {
   "cell_type": "markdown",
   "metadata": {},
   "source": [
    "(ii) Next, estimate the MA(3) parameters by estimating the model:\n",
    "$$ re_t = \\psi_0 + \\psi_1 \\widehat{u}_{t-1} + \\psi_2 \\widehat{u}_{t-2} + \\psi_3 \\widehat{u}_{t-3} + v_t $$\n",
    "Here, $\\widehat{u}_{t-1}$ is the first lag of the residual from the previous step and so on. $v_t$ is again a random noise term. You can use OLS for this step. You'll need to be careful with the size of the dependent and independent variables above for this to work."
   ]
  },
  {
   "cell_type": "code",
   "execution_count": null,
   "metadata": {},
   "outputs": [],
   "source": [
    "# Your code here"
   ]
  },
  {
   "cell_type": "markdown",
   "metadata": {},
   "source": [
    "(iii) The OLS coefficients above are the coefficients of the MA(3) model. What conclusion would you draw from these coefficients?"
   ]
  },
  {
   "cell_type": "markdown",
   "metadata": {},
   "source": []
  },
  {
   "cell_type": "markdown",
   "metadata": {},
   "source": [
    "6. Using the same two-step procedure as above, estimate an ARMA(1,1) model of equity returns. That is, the two-step procedure is:\n",
    "\n",
    "(i) Estimate an AR(p) model with $p > 1$ and save the residuals $\\widehat{u}_t$\n",
    "\n",
    "(ii) Use OLS with the following independent variables: 1 lag of the dependent variable; and 1 lag of the residuals from the previous step.\n",
    "\n",
    "After that, write your conclusions."
   ]
  },
  {
   "cell_type": "code",
   "execution_count": null,
   "metadata": {},
   "outputs": [],
   "source": []
  },
  {
   "cell_type": "markdown",
   "metadata": {},
   "source": []
  },
  {
   "cell_type": "markdown",
   "metadata": {},
   "source": [
    "7. Estimate a bivariate VAR(6) model using the equity and dividend returns."
   ]
  },
  {
   "cell_type": "code",
   "execution_count": null,
   "metadata": {},
   "outputs": [],
   "source": [
    "# Your code here"
   ]
  },
  {
   "cell_type": "markdown",
   "metadata": {},
   "source": [
    "8. Now set maxlags to 12 and use AIC and BIC to pick the optimum number of lags."
   ]
  },
  {
   "cell_type": "code",
   "execution_count": null,
   "metadata": {},
   "outputs": [],
   "source": [
    "# Use AIC"
   ]
  },
  {
   "cell_type": "code",
   "execution_count": null,
   "metadata": {},
   "outputs": [],
   "source": [
    "# Use BIC"
   ]
  },
  {
   "cell_type": "markdown",
   "metadata": {},
   "source": [
    "9. For this question and the next one, use any of the above models. Test for Granger causality (you can use the test_causality() method):\n",
    "\n",
    "(i) Test for $re \\rightarrow rd$, that is, does equity return affect dividend return? \n",
    "\n",
    "(ii) Test for $rd \\rightarrow re$, that is, does dividend return affect equity return? \n",
    "\n",
    "Write your conclusions."
   ]
  },
  {
   "cell_type": "code",
   "execution_count": null,
   "metadata": {},
   "outputs": [],
   "source": [
    "# Test causality (i)"
   ]
  },
  {
   "cell_type": "code",
   "execution_count": null,
   "metadata": {},
   "outputs": [],
   "source": [
    "# Test causality (ii)"
   ]
  },
  {
   "cell_type": "code",
   "execution_count": null,
   "metadata": {},
   "outputs": [],
   "source": []
  },
  {
   "cell_type": "markdown",
   "metadata": {},
   "source": [
    "10. Plot the impulse response for **30 periods** and interpret the results."
   ]
  },
  {
   "cell_type": "code",
   "execution_count": null,
   "metadata": {},
   "outputs": [],
   "source": [
    "# impulse response plots"
   ]
  }
 ],
 "metadata": {
  "kernelspec": {
   "display_name": "fina6337",
   "language": "python",
   "name": "python3"
  },
  "language_info": {
   "codemirror_mode": {
    "name": "ipython",
    "version": 3
   },
   "file_extension": ".py",
   "mimetype": "text/x-python",
   "name": "python",
   "nbconvert_exporter": "python",
   "pygments_lexer": "ipython3",
   "version": "3.11.4"
  },
  "orig_nbformat": 4
 },
 "nbformat": 4,
 "nbformat_minor": 2
}
