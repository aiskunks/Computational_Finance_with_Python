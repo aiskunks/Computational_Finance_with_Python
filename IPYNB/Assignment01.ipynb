{
 "cells": [
  {
   "attachments": {},
   "cell_type": "markdown",
   "metadata": {},
   "source": [
    "The data for this assignment consists of monthly observations on the prices of the largest 136 stocks in Australia from Dec 1999 to Jun 2014. You will need to place the data file in the same folder (location) as this notebook. \n",
    "\n",
    "Consider a portfolio constructed by holding <u>one share in each stock</u> in the dataset that has a price recorded at every time period. We'll use $P_{it}$ to denote the price of the $i^{\\text th}$ stock at time $t$ and $P_t$ to denote the price of the portfolio at time $t$."
   ]
  },
  {
   "cell_type": "code",
   "execution_count": null,
   "metadata": {},
   "outputs": [],
   "source": [
    "import os\n",
    "import numpy as np\n",
    "import scipy.stats as stats\n",
    "import pandas as pd\n",
    "import matplotlib.pyplot as plt\n",
    "import statsmodels.api as sm"
   ]
  },
  {
   "cell_type": "code",
   "execution_count": null,
   "metadata": {},
   "outputs": [],
   "source": [
    "# Make sure your data is in the same folder as this notebook\n",
    "assert os.path.isfile('./AusFirms.csv'), 'Data file Missing!'"
   ]
  },
  {
   "cell_type": "code",
   "execution_count": null,
   "metadata": {},
   "outputs": [],
   "source": [
    "file = os.path.basename('./AusFirms.csv')\n",
    "ausFirms = pd.read_csv(file, parse_dates = ['date'], date_format='%m/%d/%y')\n",
    "ausFirms.drop(columns=['rf', 'mkt'], inplace=True)\n",
    "ausFirms.set_index('date', inplace=True)"
   ]
  },
  {
   "attachments": {},
   "cell_type": "markdown",
   "metadata": {},
   "source": [
    "### RUN THE 3 CELLS ABOVE BUT PLEASE DON'T MODIFY ANYTHING ABOVE THIS LINE"
   ]
  },
  {
   "attachments": {},
   "cell_type": "markdown",
   "metadata": {},
   "source": [
    "#### 1. Delete any stock that has missing observations."
   ]
  },
  {
   "cell_type": "code",
   "execution_count": null,
   "metadata": {},
   "outputs": [],
   "source": [
    "# Enter your code here\n"
   ]
  },
  {
   "attachments": {},
   "cell_type": "markdown",
   "metadata": {},
   "source": [
    "#### 2. How many stocks are remaining?"
   ]
  },
  {
   "cell_type": "code",
   "execution_count": null,
   "metadata": {},
   "outputs": [],
   "source": [
    "# Enter your code here\n"
   ]
  },
  {
   "attachments": {},
   "cell_type": "markdown",
   "metadata": {},
   "source": [
    "#### 3. Create a new series called $P$ that records the portfolio value for each date. Since you have one share of each stock in the portfolio, you just need to add all the prices."
   ]
  },
  {
   "cell_type": "code",
   "execution_count": null,
   "metadata": {},
   "outputs": [],
   "source": [
    "# Enter your code here\n"
   ]
  },
  {
   "attachments": {},
   "cell_type": "markdown",
   "metadata": {},
   "source": [
    "#### 4. Let's say the starting date is 1 and the ending date is $T$. For the portfolio, calculate the simple return: $\\frac{P_T}{P_1}-1$; and the log return: $\\log\\left(\\frac{P_T}{P_1 }\\right)$."
   ]
  },
  {
   "cell_type": "code",
   "execution_count": null,
   "metadata": {},
   "outputs": [],
   "source": [
    "# Your code here (enter your code inside the { . } for each return)\n",
    "print(f'Simple return = { }; Log return = { }')"
   ]
  },
  {
   "attachments": {},
   "cell_type": "markdown",
   "metadata": {},
   "source": [
    "#### 5. Calculate the portfolio weights: $\\text{w}_{it} = \\frac{P_{it}}{P_t}$. \n",
    "\n",
    "If you use the *divide* method from Pandas, this is just one line and you will end up with a dataframe the same size as ausFirms."
   ]
  },
  {
   "cell_type": "code",
   "execution_count": null,
   "metadata": {},
   "outputs": [],
   "source": [
    "# Your code here (one line)\n"
   ]
  },
  {
   "attachments": {},
   "cell_type": "markdown",
   "metadata": {},
   "source": [
    "#### 6. Calculate the simple returns for each stock: $R_{it} = \\frac{P_{it}}{P_{i,t-1}}-1$ and the log returns for each stock: $r_{it} = \\log\\frac{P_{it}}{P_{i,t-1}}$.\n",
    "\n",
    "You only need one line for each return. To get $P_{i,t-1}$, you can use the *shift* method in Pandas."
   ]
  },
  {
   "cell_type": "code",
   "execution_count": null,
   "metadata": {},
   "outputs": [],
   "source": [
    "# Your code here\n"
   ]
  },
  {
   "attachments": {},
   "cell_type": "markdown",
   "metadata": {},
   "source": [
    "#### 7. Now calculate the portfolio returns as follows:\n",
    "- For simple returns: $R_{Pt} = w_{1,t-1}R_{1t} + w_{2,t-1}R_{2t} + \\cdots + w_{n,t-1}R_{nt}$\n",
    "- For log returns: $r_{Pt} = \\log (w_{1,t-1}e^{r_{1t}} + w_{2,t-1}e^{r_{2t}} + \\cdots + w_{n,t-1}e^{r_{nt}})$\n",
    "\n",
    "Note that the time index on the weights is one period behind the returns."
   ]
  },
  {
   "cell_type": "code",
   "execution_count": null,
   "metadata": {},
   "outputs": [],
   "source": [
    "# Your code here (one line for each type of return). After calculating the returns, remove the first row because it is not valid.\n"
   ]
  },
  {
   "attachments": {},
   "cell_type": "markdown",
   "metadata": {},
   "source": [
    "#### 8. Plot the portfolio return series - simple and log"
   ]
  },
  {
   "cell_type": "code",
   "execution_count": null,
   "metadata": {},
   "outputs": [],
   "source": [
    "# Both plots on the same figure. Use two different linestyles and include a legend.\n"
   ]
  },
  {
   "attachments": {},
   "cell_type": "markdown",
   "metadata": {},
   "source": [
    "#### 9. For each stock in the portfolio, calculate the excess kurtosis of the log returns. Then, create a histogram of the kurtosis values.\n",
    "\n",
    "You can use the *kurtosis* function in scipy for this. The result from this function should be an array of kurtosis values. Then, create a histogram from this array. You can do this entire step in one line if you want to."
   ]
  },
  {
   "cell_type": "code",
   "execution_count": null,
   "metadata": {},
   "outputs": [],
   "source": [
    "# Your code here. \n"
   ]
  },
  {
   "attachments": {},
   "cell_type": "markdown",
   "metadata": {},
   "source": [
    "What do you conclude about the distributions of stock returns from the histogram you've just created? Enter your answer in the cell below."
   ]
  },
  {
   "attachments": {},
   "cell_type": "markdown",
   "metadata": {},
   "source": []
  },
  {
   "attachments": {},
   "cell_type": "markdown",
   "metadata": {},
   "source": [
    "#### 9a. Now calculate the excess kurtosis of the portfolio log return.\n",
    "\n",
    "You should see a big difference between the kurtosis of a typical stock return and the kurtosis of the portfolio. This is one reason why portfolio returns can often be approximated using a normal distribution but individual stock returns cannot."
   ]
  },
  {
   "cell_type": "code",
   "execution_count": null,
   "metadata": {},
   "outputs": [],
   "source": [
    "# Your code here\n"
   ]
  },
  {
   "attachments": {},
   "cell_type": "markdown",
   "metadata": {},
   "source": [
    "#### 10. Calculate autocorrelation function over 6 lags for the portfolio log return.\n",
    "\n",
    "You can use the *acf* function in statsmodels to make this easy."
   ]
  },
  {
   "cell_type": "code",
   "execution_count": null,
   "metadata": {},
   "outputs": [],
   "source": [
    "# Your code here.\n"
   ]
  },
  {
   "attachments": {},
   "cell_type": "markdown",
   "metadata": {},
   "source": [
    "In class, we saw an example where the DM/USD exchange rate had very low autocorrelation values and we took that as evidence of market efficiency. What do you observe here? Enter your answer in the cell below."
   ]
  },
  {
   "attachments": {},
   "cell_type": "markdown",
   "metadata": {},
   "source": []
  }
 ],
 "metadata": {
  "kernelspec": {
   "display_name": "fina6337",
   "language": "python",
   "name": "python3"
  },
  "language_info": {
   "codemirror_mode": {
    "name": "ipython",
    "version": 3
   },
   "file_extension": ".py",
   "mimetype": "text/x-python",
   "name": "python",
   "nbconvert_exporter": "python",
   "pygments_lexer": "ipython3",
   "version": "3.11.4"
  },
  "orig_nbformat": 4
 },
 "nbformat": 4,
 "nbformat_minor": 2
}
